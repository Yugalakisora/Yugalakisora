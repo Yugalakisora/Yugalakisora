{
  "nbformat": 4,
  "nbformat_minor": 0,
  "metadata": {
    "kernelspec": {
      "display_name": "Python 3",
      "language": "python",
      "name": "python3"
    },
    "language_info": {
      "codemirror_mode": {
        "name": "ipython",
        "version": 3
      },
      "file_extension": ".py",
      "mimetype": "text/x-python",
      "name": "python",
      "nbconvert_exporter": "python",
      "pygments_lexer": "ipython3",
      "version": "3.7.7"
    },
    "colab": {
      "name": "Copy of 111b.ipynb",
      "provenance": [],
      "collapsed_sections": [],
      "include_colab_link": true
    }
  },
  "cells": [
    {
      "cell_type": "markdown",
      "metadata": {
        "id": "view-in-github",
        "colab_type": "text"
      },
      "source": [
        "<a href=\"https://colab.research.google.com/github/Yugalakisora/Yugalakisora/blob/main/Copy_of_111b.ipynb\" target=\"_parent\"><img src=\"https://colab.research.google.com/assets/colab-badge.svg\" alt=\"Open In Colab\"/></a>"
      ]
    },
    {
      "cell_type": "markdown",
      "metadata": {
        "id": "IGroNc0Uy0_K"
      },
      "source": [
        "# Sprint 1: Intermediate Python\n",
        "## Part 2: Number Guessing Game Project\n"
      ]
    },
    {
      "cell_type": "code",
      "metadata": {
        "id": "u0gClTD_rL6N",
        "colab": {
          "base_uri": "https://localhost:8080/"
        },
        "outputId": "caf3eab8-3dfb-4dec-8533-f7ae640628f8"
      },
      "source": [
        "import random\n",
        "def User_guess(Correct_number):\n",
        "#\"\"\" This function asks the user to guess the number and returns the difference between number and number entered by the user\"\"\"\n",
        "    return Correct_number-int(input(\"Please guess the number from 0 to 100 \\n\"))\n",
        "  \n",
        "def guessing_game():\n",
        "#\"\"\" This function keeps asking user to guess the number between 0 and 100 \n",
        "#    until the user finds out the correct number \n",
        "#    \n",
        "#    It uses also User_guess function to get user input \"\"\"\n",
        "\n",
        "  Number_to_guess = random.randint(0, 100)\n",
        "  Guess=User_guess(Number_to_guess)\n",
        "  while Guess!=0:\n",
        "    if Guess<0:\n",
        "      print(\"too high\")\n",
        "    else:\n",
        "      print(\"too low\")\n",
        "    Guess=User_guess(Number_to_guess)\n",
        "  print(\"Just right\")\n",
        "\n",
        "guessing_game()\n"
      ],
      "execution_count": 2,
      "outputs": [
        {
          "output_type": "stream",
          "name": "stdout",
          "text": [
            "Please guess the number from 0 to 100 \n",
            "50\n",
            "too low\n",
            "Please guess the number from 0 to 100 \n",
            "80\n",
            "too high\n",
            "Please guess the number from 0 to 100 \n",
            "65\n",
            "too low\n",
            "Please guess the number from 0 to 100 \n",
            "75\n",
            "too high\n",
            "Please guess the number from 0 to 100 \n",
            "70\n",
            "too low\n",
            "Please guess the number from 0 to 100 \n",
            "72\n",
            "too low\n",
            "Please guess the number from 0 to 100 \n",
            "73\n",
            "Just right\n"
          ]
        }
      ]
    },
    {
      "cell_type": "markdown",
      "metadata": {
        "id": "G5m38yb9y0_P"
      },
      "source": [
        "## Your first Project - changes\n",
        "\n",
        "In this Part, you will practice and test your Python skills to create a Number Guessing Game.\n",
        "\n",
        "This exercise will test several skills that will be important throughout your Python career: loops, user input, converting types, and comparing values.\n",
        "\n",
        "More specifically, programs all have to get input to do something interesting, and that input often comes from the user. Knowing how to ask the user for input is not only useful, but allows us to think about the type of data we're getting, how to convert it into a format we can use, and what the format would be.\n",
        "\n",
        "As you might know, Python only provides two kinds of loops: `for` and `while`. Knowing how to write and use them will serve you well throughout your Python career. The fact that nearly every type of data knows how to work inside a `for` loop makes such loops common and useful. If you're working with database records, elements in a file, or the results from searching for text using regular expressions, you'll be using `for` loops quite a bit.\n",
        "\n",
        "For this exercise:\n",
        "\n",
        "- Write a function (`guessing_game`) that takes no arguments.\n",
        "- When run, the function chooses a random integer between 0 and 100 (inclusive).\n",
        "- Then, ask the user to guess what number has been chosen.\n",
        "- Each time the user enters a guess, the program indicates one of the following:\n",
        "  - Too high\n",
        "  - Too low\n",
        "  - Just right\n",
        "- If the user guesses correctly, the program exits. Otherwise, the user is asked to try again.\n",
        "- The program only exits after the user guesses correctly.\n",
        "\n",
        "We'll also be prompting the user to enter text with the `input` function. The function takes a single string as an argument, which is displayed to the user. The function then returns the string containing whatever the user entered; for example:\n",
        "\n",
        "```python\n",
        "def print_double_input():\n",
        "    \"\"\"This function asks for an input, multiplies it by 2 and prints it.\"\"\"\n",
        "    user_value = int(input('Enter a number: '))\n",
        "    print(f'Double of your input is {user_value * 2}!')\n",
        "\n",
        "```\n",
        "\n",
        "NOTE If the user presses Enter when presented with the input prompt, the value returned by `input` is an empty string, not `None`. Indeed, the return value from `input` will always be a string, regardless of what the user entered.\n",
        "\n",
        "## Submission\n",
        "This notebook that you have opened right now is an individual copy made for you. This is the only source which a reviewer will use for your code review. You should therefore save all the progress that you make here by selecting \"File\"->\"Save a Copy to GitHub\". For a detailed explanation on all the steps required for saving a project, watch this video: [How to save your progress](https://bit.ly/3mD1Xme)\n",
        "\n",
        "If there are still any things that are unclear, we will be more than happy to help you through Discord ([#product-support](https://discord.com/channels/887305736852484116/887307429308669992)), in standups, and in open sessions.\n",
        "\n",
        "## Requirements\n",
        "\n",
        "- Have a function `guessing_game` created.\n",
        "- The function should accept valid inputs and deal with invalid ones.\n",
        "- Randomisation module should be used correctly.\n",
        "- The program should fully implement the guessing game logic.\n",
        "- Provide instructions for the user on how to use your application.\n",
        "- Describe what your functions do (preferrably using docstrings).\n",
        "- Use meaningful variable names that will help others understand your code.\n",
        "- Be ready to discuss ways how your code could be improved further.\n",
        "\n",
        "## Evaluation Criteria\n",
        "\n",
        "- Adherence to the requirements. How well did you meet the requirements?\n",
        "- Code quality. You will be given tips on whether:\n",
        "   - the code is well-structured;\n",
        "   - commented-out and unused code is removed;\n",
        "   - the code easy to read.\n",
        "\n",
        "- Code performance. You will be given tips on whether:\n",
        "   - Suitable algorithms and data structures were used\n",
        "\n",
        "## Sample Correction Questions\n",
        "\n",
        "During a correction, you may get asked questions that test your understanding of all the topics covered in this sprint (even if they were not directly used in this project).\n",
        "\n",
        "- What are the most important functions of the statistics library?\n",
        "- How to find a character in a string?\n",
        "- How to calculate factorial using Python?\n",
        "- What does a specific line of code in your solution do?\n",
        "\n",
        "## Source\n",
        "\n",
        "This exercise is adapted from the Python Workout book by Reuven M. Lerner.\n"
      ]
    }
  ]
}